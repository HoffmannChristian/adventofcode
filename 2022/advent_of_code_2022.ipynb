{
 "cells": [
  {
   "cell_type": "markdown",
   "metadata": {},
   "source": [
    "# Advent of Code 2022\n",
    "\n",
    "[Website](https://adventofcode.com/2022)\n",
    "\n",
    "## Day 1: Calorie Counting\n",
    "\n",
    "Find the Elf carrying the most Calories. How many total Calories is that Elf carrying?"
   ]
  },
  {
   "cell_type": "code",
   "execution_count": null,
   "metadata": {},
   "outputs": [],
   "source": [
    "elf = 0\n",
    "calories_per_elf = [0]\n",
    "\n",
    "for line in open('01_input.txt', 'r'):\n",
    "    if line.strip():\n",
    "        calories_per_elf[elf] += int(line)\n",
    "    else:\n",
    "        elf += 1\n",
    "        calories_per_elf.append(0)\n",
    "\n",
    "max(calories_per_elf)"
   ]
  },
  {
   "cell_type": "markdown",
   "metadata": {},
   "source": [
    "Find the top three Elves carrying the most Calories. How many Calories are those Elves carrying in total?"
   ]
  },
  {
   "cell_type": "code",
   "execution_count": null,
   "metadata": {},
   "outputs": [],
   "source": [
    "calories_per_elf.sort(reverse=True)\n",
    "sum(calories_per_elf[:3])"
   ]
  },
  {
   "cell_type": "markdown",
   "metadata": {},
   "source": [
    "## Day 2: Rock Paper Scissors\n",
    "\n",
    "What would your total score be if everything goes exactly according to your strategy guide?"
   ]
  },
  {
   "cell_type": "code",
   "execution_count": null,
   "metadata": {},
   "outputs": [],
   "source": [
    "def get_shape_score(shape):\n",
    "    return ord(shape) - 87\n",
    "\n",
    "def get_result_score(opponents_shape, own_shape):\n",
    "    diff = ord(own_shape) - ord(opponents_shape)\n",
    "    if diff == 23:\n",
    "        return 3\n",
    "    if diff == 21 or diff == 24:\n",
    "        return 6\n",
    "    return 0\n",
    "\n",
    "score = 0\n",
    "for line in open('02_input.txt', 'r'):\n",
    "    opponents_shape, own_shape = line.strip().split()\n",
    "    score += get_shape_score(own_shape)\n",
    "    score += get_result_score(opponents_shape, own_shape)\n",
    "print(score)"
   ]
  },
  {
   "cell_type": "markdown",
   "metadata": {},
   "source": [
    "Following the Elf's instructions for the second column, what would your total score be if everything goes exactly according to your strategy guide?"
   ]
  },
  {
   "cell_type": "code",
   "execution_count": null,
   "metadata": {},
   "outputs": [],
   "source": [
    "def get_own_shape(opponents_shape, result):\n",
    "    shape_for_loss = { 'A' : 'Z', 'B' : 'X', 'C' : 'Y' }\n",
    "    shape_for_draw = { 'A' : 'X', 'B' : 'Y', 'C' : 'Z' }\n",
    "    shape_for_win = { 'A' : 'Y', 'B' : 'Z', 'C' : 'X' }\n",
    "    \n",
    "    match result:\n",
    "        case 'X':\n",
    "            return shape_for_loss[opponents_shape]\n",
    "        case 'Y':\n",
    "            return shape_for_draw[opponents_shape]\n",
    "        case _:\n",
    "            return shape_for_win[opponents_shape]\n",
    "\n",
    "score = 0\n",
    "for line in open('02_input.txt', 'r'):\n",
    "    opponents_shape, result = line.strip().split()\n",
    "    own_shape = get_own_shape(opponents_shape, result)\n",
    "    score += get_shape_score(own_shape)\n",
    "    score += get_result_score(opponents_shape, own_shape)\n",
    "print(score)"
   ]
  },
  {
   "cell_type": "markdown",
   "metadata": {},
   "source": [
    "## Day 3: Rucksack Reorganization\n",
    "\n",
    "Find the item type that appears in both compartments of each rucksack. What is the sum of the priorities of those item types?"
   ]
  },
  {
   "cell_type": "code",
   "execution_count": null,
   "metadata": {},
   "outputs": [],
   "source": [
    "def to_priority(item):\n",
    "    if(ord(item) < 91):\n",
    "        return ord(item) - 38\n",
    "    return ord(item) - 96\n",
    "\n",
    "priorities = 0\n",
    "for line in open('03_input.txt', 'r'):\n",
    "    compartment_len = len(line)//2\n",
    "    compartment0, compartment1 = line[:compartment_len], line[compartment_len:]\n",
    "    duplicate_items = set(compartment0).intersection(compartment1)\n",
    "    assert len(duplicate_items) == 1\n",
    "    priorities += to_priority(duplicate_items.pop())\n",
    "print(priorities)"
   ]
  },
  {
   "cell_type": "markdown",
   "metadata": {},
   "source": [
    "Find the item type that corresponds to the badges of each three-Elf group. What is the sum of the priorities of those item types?"
   ]
  },
  {
   "cell_type": "code",
   "execution_count": null,
   "metadata": {},
   "outputs": [],
   "source": [
    "lines = open('03_input.txt', 'r').readlines()\n",
    "lines = [line.strip() for line in lines]\n",
    "assert len(lines) % 3 == 0\n",
    "\n",
    "priorities = 0\n",
    "group_idx = 0\n",
    "while group_idx < len(lines):\n",
    "    groups = lines[group_idx:group_idx+3]\n",
    "    duplicate_items = set(groups[0]).intersection(groups[1]).intersection(groups[2])\n",
    "    assert len(duplicate_items) == 1\n",
    "    priorities += to_priority(duplicate_items.pop())\n",
    "    group_idx += 3\n",
    "print(priorities)"
   ]
  },
  {
   "cell_type": "markdown",
   "metadata": {},
   "source": [
    "## Day 4: Camp Cleanup\n",
    "\n",
    "In how many assignment pairs does one range fully contain the other?"
   ]
  },
  {
   "cell_type": "code",
   "execution_count": null,
   "metadata": {},
   "outputs": [],
   "source": [
    "def get_assignments(line):\n",
    "    assignment0, assignment1 = line.strip().split(',')\n",
    "    assignment0 = [int(a) for a in assignment0.split('-')]\n",
    "    assignment1 = [int(a) for a in assignment1.split('-')]\n",
    "    return (assignment0, assignment1)\n",
    "\n",
    "def is_fully_contained(assignments):\n",
    "    return (assignments[0][0] <= assignments[1][0] and assignments[0][1] >= assignments[1][1]) or \\\n",
    "           (assignments[0][1] <= assignments[1][1] and assignments[0][0] >= assignments[1][0])\n",
    "\n",
    "count = 0\n",
    "for line in open('04_input.txt', 'r'):\n",
    "    assignments = get_assignments(line)\n",
    "    count += is_fully_contained(assignments)\n",
    "print(count)"
   ]
  },
  {
   "cell_type": "markdown",
   "metadata": {},
   "source": [
    "In how many assignment pairs do the ranges overlap?"
   ]
  },
  {
   "cell_type": "code",
   "execution_count": null,
   "metadata": {},
   "outputs": [],
   "source": [
    "def is_overlapping(assignments):\n",
    "    return (assignments[0][0] <= assignments[1][1] and assignments[0][0] >= assignments[1][0]) or \\\n",
    "           (assignments[0][1] <= assignments[1][1] and assignments[0][1] >= assignments[1][0]) or \\\n",
    "           (assignments[1][0] <= assignments[0][1] and assignments[1][0] >= assignments[0][0]) or \\\n",
    "           (assignments[1][1] <= assignments[0][1] and assignments[1][1] >= assignments[0][0])\n",
    "\n",
    "count = 0\n",
    "for line in open('04_input.txt', 'r'):\n",
    "    assignments = get_assignments(line)\n",
    "    count += is_overlapping(assignments)\n",
    "print(count)"
   ]
  },
  {
   "cell_type": "markdown",
   "metadata": {},
   "source": [
    "## Day 5: Supply Stacks\n",
    "\n",
    "After the rearrangement procedure completes, what crate ends up on top of each stack?"
   ]
  },
  {
   "cell_type": "code",
   "execution_count": null,
   "metadata": {},
   "outputs": [],
   "source": [
    "import re\n",
    "\n",
    "def parse_input(lines):\n",
    "    def simplify(stacks_str):\n",
    "        result = []\n",
    "        for line in stacks_str:\n",
    "            while '  ' in line:\n",
    "                line = line.replace(']    ', '] [.]')\n",
    "            result.append(line.replace('] [', '').replace('[', '').replace(']\\n', ''))\n",
    "        return result\n",
    "\n",
    "    def parse_stacks(stacks_str):\n",
    "        stacks_str = simplify(stacks_str)\n",
    "\n",
    "        num_stacks = max(len(line) for line in stacks_str)\n",
    "        stacks = [[] for _ in range(num_stacks)]\n",
    "\n",
    "        stacks_str.reverse()\n",
    "        for line in stacks_str:\n",
    "            for stack_id in range(len(line)):\n",
    "                if(line[stack_id] == '.'):\n",
    "                    continue\n",
    "                stacks[stack_id].append(line[stack_id])\n",
    "        return stacks\n",
    "    \n",
    "    def parse_operations(operations_str):\n",
    "        operations = []\n",
    "        for line in operations_str:\n",
    "            operations.append({\n",
    "                'quantity': int(re.search('move (.*) from', line).group(1)),\n",
    "                'source': int(re.search('from (.*) to', line).group(1)) - 1,\n",
    "                'target': int(re.search('to (.*)\\n', line).group(1)) - 1\n",
    "                })\n",
    "        return operations\n",
    "\n",
    "    legend_line_idx = lines.index(next(filter(lambda line : line.startswith(' 1'), lines)))\n",
    "    stacks_str = lines[:legend_line_idx]\n",
    "    operations_str = lines[legend_line_idx+2:]\n",
    "    return parse_stacks(stacks_str), parse_operations(operations_str)\n",
    "\n",
    "def process_operation(stacks, operation):\n",
    "    for _ in range(operation['quantity']):\n",
    "        crate = stacks[operation['source']].pop()\n",
    "        stacks[operation['target']].append(crate)\n",
    "    return stacks\n",
    "\n",
    "def process(stacks, operations):\n",
    "    for operation in operations:\n",
    "        stacks = process_operation(stacks, operation)\n",
    "    return stacks\n",
    "\n",
    "\n",
    "lines = open('05_input.txt', 'r').readlines()\n",
    "stacks, operations = parse_input(lines)\n",
    "updated_stacks = process(stacks, operations)\n",
    "\n",
    "for stack in updated_stacks:\n",
    "    print(stack.pop(), end='')"
   ]
  },
  {
   "cell_type": "markdown",
   "metadata": {},
   "source": [
    "After the rearrangement procedure completes, what crate ends up on top of each stack?"
   ]
  },
  {
   "cell_type": "code",
   "execution_count": null,
   "metadata": {},
   "outputs": [],
   "source": [
    "def process_operation(stacks, operation):\n",
    "    crates = [stacks[operation['source']].pop() for _ in range(operation['quantity'])]\n",
    "    crates.reverse()\n",
    "    [stacks[operation['target']].append(crate) for crate in crates]\n",
    "    return stacks\n",
    "\n",
    "lines = open('05_input.txt', 'r').readlines()\n",
    "stacks, operations = parse_input(lines)\n",
    "updated_stacks = process(stacks, operations)\n",
    "\n",
    "for stack in updated_stacks:\n",
    "    print(stack.pop(), end='')"
   ]
  },
  {
   "cell_type": "markdown",
   "metadata": {},
   "source": [
    "## Day 6: Tuning Trouble\n",
    "\n",
    "How many characters need to be processed before the first start-of-packet marker is detected?"
   ]
  },
  {
   "cell_type": "code",
   "execution_count": null,
   "metadata": {},
   "outputs": [],
   "source": [
    "def is_unique_chars(string):\n",
    "    return len(set(string)) == len(list(string))\n",
    "\n",
    "def get_marker_end_position(message, marker_len):\n",
    "    for start_idx in range(len(message)-marker_len):\n",
    "        marker = message[start_idx:start_idx+marker_len]\n",
    "        if(is_unique_chars(marker)):\n",
    "            return start_idx + marker_len\n",
    "    raise Exception('No marker of length ' + str(marker_len) + ' found.')\n",
    "\n",
    "line = open('06_input.txt', 'r').readline()\n",
    "get_marker_end_position(line, 4)"
   ]
  },
  {
   "cell_type": "markdown",
   "metadata": {},
   "source": [
    "How many characters need to be processed before the first start-of-message marker is detected?"
   ]
  },
  {
   "cell_type": "code",
   "execution_count": null,
   "metadata": {},
   "outputs": [],
   "source": [
    "line = open('06_input.txt', 'r').readline()\n",
    "get_marker_end_position(line, 14)"
   ]
  },
  {
   "cell_type": "markdown",
   "metadata": {},
   "source": [
    "## Day 7: No Space Left On Device\n",
    "\n",
    "What is the sum of the total sizes of those directories?"
   ]
  },
  {
   "cell_type": "code",
   "execution_count": null,
   "metadata": {},
   "outputs": [],
   "source": [
    "class Directory:\n",
    "    subdirs: dict\n",
    "    \"key: name, value: directory\"\n",
    "\n",
    "    files: dict\n",
    "    \"key: name, value: directory\"\n",
    "\n",
    "    total_size: int\n",
    "    \"total size including all subdirs\"\n",
    "\n",
    "    def __init__(self, name, parent = None):\n",
    "        self.name = name\n",
    "        self.parent = parent\n",
    "        self.subdirs = {}\n",
    "        self.files = {}\n",
    "        self.total_size = None\n",
    "\n",
    "def parse_input(lines):\n",
    "    root = Directory('/')\n",
    "    current_dir = root\n",
    "\n",
    "    for line in lines:\n",
    "        match line.removeprefix('$').split():\n",
    "            case['dir', name]:\n",
    "                current_dir.subdirs[name] = Directory(name, current_dir)\n",
    "            case['cd', target]:\n",
    "                if target == '/':\n",
    "                    current_dir = root\n",
    "                elif target == '..':\n",
    "                    current_dir = current_dir.parent\n",
    "                else:\n",
    "                    current_dir = current_dir.subdirs[target]\n",
    "            case[size, name] if size.isnumeric():\n",
    "                current_dir.files[name] = int(size)\n",
    "    return root\n",
    "\n",
    "def add_total_dir_sizes(current_dir):\n",
    "    size = sum(current_dir.files.values())\n",
    "    for subdir in current_dir.subdirs.values():\n",
    "        size += add_total_dir_sizes(subdir)\n",
    "    current_dir.total_size = size\n",
    "    return size\n",
    "\n",
    "def calculate_size_sum(current_dir, upper_threshold):\n",
    "    sum = 0\n",
    "    if current_dir.total_size < upper_threshold:\n",
    "        sum += current_dir.total_size\n",
    "    for subdir in current_dir.subdirs.values():\n",
    "        sum += calculate_size_sum(subdir, upper_threshold)\n",
    "    return sum\n",
    "\n",
    "lines = open('07_input.txt', 'r').readlines()\n",
    "lines = [line.strip() for line in lines]\n",
    "\n",
    "root = parse_input(lines)\n",
    "add_total_dir_sizes(root)\n",
    "calculate_size_sum(root, 100_000)"
   ]
  },
  {
   "cell_type": "markdown",
   "metadata": {},
   "source": [
    "What is the total size of that directory?"
   ]
  },
  {
   "cell_type": "code",
   "execution_count": null,
   "metadata": {},
   "outputs": [],
   "source": [
    "from sys import maxsize\n",
    "\n",
    "free_space = 70_000_000 - root.total_size\n",
    "space_to_be_freed = 30_000_000 - free_space\n",
    "\n",
    "def get_cleanup_size(current_dir, space_to_be_freed):\n",
    "    best_match = maxsize\n",
    "    if current_dir.total_size >= space_to_be_freed:\n",
    "        best_match = min(best_match, current_dir.total_size)\n",
    "    for subdir in current_dir.subdirs.values():\n",
    "        best_match = min(best_match, get_cleanup_size(subdir, space_to_be_freed))\n",
    "    return best_match\n",
    "\n",
    "get_cleanup_size(root, space_to_be_freed)"
   ]
  },
  {
   "cell_type": "markdown",
   "metadata": {},
   "source": [
    "## Day 8: Treetop Tree House\n",
    "\n",
    "Consider your map; how many trees are visible from outside the grid?"
   ]
  },
  {
   "cell_type": "code",
   "execution_count": null,
   "metadata": {},
   "outputs": [],
   "source": [
    "import numpy as np\n",
    "\n",
    "heights = np.genfromtxt('08_input.txt', delimiter=1)\n",
    "\n",
    "visibilities = np.ones_like(heights)\n",
    "for idx, height in np.ndenumerate(heights[1:-1,1:-1]):\n",
    "    row_idx = idx[0] + 1\n",
    "    col_idx = idx[1] + 1\n",
    "    max_height_above = np.amax(heights[:row_idx, col_idx])\n",
    "    max_height_below = np.amax(heights[row_idx+1:, col_idx])\n",
    "    max_height_right = np.amax(heights[row_idx,:col_idx])\n",
    "    max_height_left = np.amax(heights[row_idx,col_idx+1:])\n",
    "    visibilities[row_idx, col_idx] = any(m < height for m in [max_height_above, max_height_below, max_height_right, max_height_left])\n",
    "\n",
    "np.count_nonzero(visibilities)"
   ]
  },
  {
   "cell_type": "markdown",
   "metadata": {},
   "source": [
    "What is the highest scenic score possible for any tree?"
   ]
  },
  {
   "cell_type": "code",
   "execution_count": null,
   "metadata": {},
   "outputs": [],
   "source": [
    "def get_viewing_distance(height, neighbour_heights):\n",
    "    distance = 0\n",
    "    for neighbour_height in neighbour_heights:\n",
    "        distance += 1\n",
    "        if(neighbour_height >= height):\n",
    "            break\n",
    "    return distance\n",
    "\n",
    "scenic_scores = np.ones_like(heights)\n",
    "for idx, height in np.ndenumerate(heights):\n",
    "    row_idx = idx[0]\n",
    "    col_idx = idx[1]\n",
    "    scenic_scores[idx] *= get_viewing_distance(height, heights[:row_idx, col_idx][::-1]) #look up\n",
    "    scenic_scores[idx] *= get_viewing_distance(height, heights[row_idx+1:, col_idx]) #look down\n",
    "    scenic_scores[idx] *= get_viewing_distance(height, heights[row_idx,col_idx+1:]) #look right\n",
    "    scenic_scores[idx] *= get_viewing_distance(height, heights[row_idx,:col_idx][::-1]) #look left\n",
    "\n",
    "np.max(scenic_scores)"
   ]
  }
 ],
 "metadata": {
  "kernelspec": {
   "display_name": "Python 3.10.8 ('aoc2022')",
   "language": "python",
   "name": "python3"
  },
  "language_info": {
   "codemirror_mode": {
    "name": "ipython",
    "version": 3
   },
   "file_extension": ".py",
   "mimetype": "text/x-python",
   "name": "python",
   "nbconvert_exporter": "python",
   "pygments_lexer": "ipython3",
   "version": "3.10.8"
  },
  "vscode": {
   "interpreter": {
    "hash": "675c21d3c5262417f1beae2f9351630917463b65d175df191d4e2da8a3761e31"
   }
  }
 },
 "nbformat": 4,
 "nbformat_minor": 2
}
