{
 "cells": [
  {
   "cell_type": "markdown",
   "metadata": {},
   "source": [
    "# Advent of Code 2023\n",
    "\n",
    "[Website](https://adventofcode.com/2023)\n",
    "\n",
    "## Day 1: Trebuchet?!\n",
    "\n",
    "What is the sum of all of the calibration values?"
   ]
  },
  {
   "cell_type": "code",
   "execution_count": null,
   "metadata": {},
   "outputs": [],
   "source": [
    "import re\n",
    "\n",
    "def get_digits(line):\n",
    "      return re.findall(r'\\d', line)\n",
    "\n",
    "def get_calibration_value(line):\n",
    "    digits = get_digits(line)\n",
    "    return int(digits[0] + digits[-1]) if len(digits) else 0\n",
    "\n",
    "def get_calibration_sum(lines):\n",
    "    return sum([get_calibration_value(line) for line in lines])\n",
    "\n",
    "lines = open('01_input.txt', 'r').readlines()\n",
    "get_calibration_sum(lines)"
   ]
  },
  {
   "cell_type": "markdown",
   "metadata": {},
   "source": [
    "What is the sum of all of the calibration values?"
   ]
  },
  {
   "cell_type": "code",
   "execution_count": null,
   "metadata": {},
   "outputs": [],
   "source": [
    "def get_digits(line):\n",
    "    numbers = {'0': '0', '1': '1', '2': '2', '3': '3', '4': '4', '5': '5', '6': '6', '7': '7', '8': '8', '9': '9', \\\n",
    "               'zero': '0', 'one': '1', 'two': '2', 'three': '3', 'four': '4', 'five': '5', 'six': '6', 'seven': '7', 'eight': '8', 'nine': '9'}\n",
    "\n",
    "    digits = []\n",
    "    for start_pos in range(len(line)):\n",
    "        digit = next((numbers[number] for number in numbers if line[start_pos:].startswith(number)), None)\n",
    "        if digit != None:\n",
    "            digits.append(digit)\n",
    "    return digits\n",
    "\n",
    "get_calibration_sum(lines)"
   ]
  },
  {
   "cell_type": "markdown",
   "metadata": {},
   "source": [
    "## Day 2: Cube Conundrum\n",
    "\n",
    "What is the sum of the IDs of those games?"
   ]
  },
  {
   "cell_type": "code",
   "execution_count": null,
   "metadata": {},
   "outputs": [],
   "source": [
    "def get_games(lines):\n",
    "    games = []\n",
    "    for game_str in [line.strip().split(':')[1].split(';') for line in lines]:\n",
    "        subsets =[]\n",
    "        for subset_str in game_str:\n",
    "            subset = { 'blue': 0, 'green': 0, 'red': 0}\n",
    "            for cube_str in subset_str.split(','):\n",
    "                cubes = cube_str.split()\n",
    "                subset[cubes[1]] = int(cubes[0])\n",
    "            subsets.append(subset)\n",
    "        games.append(subsets)\n",
    "    return games\n",
    "\n",
    "def is_possible(subset):\n",
    "    max_num_cubes = {'blue': 14, 'green': 13, 'red': 12}\n",
    "    return all(subset[color] <= max_num_cubes[color] for color in max_num_cubes.keys())\n",
    "\n",
    "def get_possible_game_ids(games):\n",
    "    possible_game_ids = []\n",
    "    for game_id in range(len(games)):\n",
    "        if all(is_possible(subset) for subset in games[game_id]):\n",
    "            possible_game_ids.append(game_id+1)\n",
    "    return possible_game_ids\n",
    "\n",
    "lines = open('02_input.txt', 'r').readlines()\n",
    "\n",
    "games = get_games(lines)\n",
    "sum(get_possible_game_ids(games))"
   ]
  },
  {
   "cell_type": "markdown",
   "metadata": {},
   "source": [
    "What is the sum of the power of these sets?"
   ]
  },
  {
   "cell_type": "code",
   "execution_count": null,
   "metadata": {},
   "outputs": [],
   "source": [
    "from math import prod\n",
    "\n",
    "def get_powers(games):\n",
    "    powers = []\n",
    "    for game in games:\n",
    "        min_cube_num = {'blue': 0, 'green': 0, 'red': 0}\n",
    "        for subset in game:\n",
    "            for color in subset:\n",
    "                min_cube_num[color] = max(min_cube_num[color], subset[color])\n",
    "        powers.append(prod(min_cube_num.values()))\n",
    "    return powers\n",
    "\n",
    "sum(get_powers(games))"
   ]
  },
  {
   "cell_type": "markdown",
   "metadata": {},
   "source": [
    "## Day 3: Gear Ratios\n",
    "\n",
    "What is the sum of all of the part numbers in the engine schematic?"
   ]
  },
  {
   "cell_type": "code",
   "execution_count": null,
   "metadata": {},
   "outputs": [],
   "source": [
    "from collections import namedtuple\n",
    "\n",
    "def get_numbers(lines):\n",
    "    Number = namedtuple('number', 'position number')\n",
    "    numbers = []\n",
    "    for row_id, line in enumerate(lines):\n",
    "        column_id = 0\n",
    "        while column_id < len(line):\n",
    "            if not line[column_id].isdigit():\n",
    "                column_id += 1\n",
    "                continue\n",
    "            position = (row_id, column_id)\n",
    "            number = line[column_id]\n",
    "            while column_id < len(line)-1 and line[column_id+1].isdigit():\n",
    "                column_id += 1\n",
    "                number += line[column_id]\n",
    "            numbers.append(Number(position, int(number)))\n",
    "            column_id += 1\n",
    "    return numbers\n",
    "\n",
    "def is_valid_position(position, matrix):\n",
    "    return position[0] >= 0 and position[0] < len(matrix) and \\\n",
    "           position[1] >= 0 and position[1] < len(matrix[0])\n",
    "\n",
    "def is_symbol(position, matrix):\n",
    "    char = matrix[position[0]][position[1]]\n",
    "    return not char.isdigit() and char != '.'\n",
    "\n",
    "def has_symbol_as_neighbor(position, matrix):\n",
    "    for row_move in [-1, 0, 1]:\n",
    "        for column_move in [-1, 0, 1]:\n",
    "            neighbor_position = (position[0] + row_move, position[1] + column_move)\n",
    "            if is_valid_position(neighbor_position, matrix) and is_symbol(neighbor_position, matrix):\n",
    "                return True\n",
    "    return False\n",
    "\n",
    "def get_part_number_infos(numbers, matrix):\n",
    "    part_number_infos = []\n",
    "    for number_info in numbers:\n",
    "        row_id, column_id = number_info.position\n",
    "        number = number_info.number\n",
    "        if any(has_symbol_as_neighbor((row_id, column_id + column_move), matrix) for column_move in range(len(str(number)))):\n",
    "            part_number_infos.append(number_info)\n",
    "    return part_number_infos\n",
    "\n",
    "lines = open('03_input.txt', 'r').readlines()\n",
    "lines = [line.strip() for line in lines]\n",
    "\n",
    "numbers = get_numbers(lines)\n",
    "matrix = [[char for char in row] for row in lines]\n",
    "part_number_infos = get_part_number_infos(numbers, matrix)\n",
    "part_numbers = [info.number for info in part_number_infos]\n",
    "sum(part_numbers)"
   ]
  },
  {
   "cell_type": "markdown",
   "metadata": {},
   "source": [
    "What is the sum of all of the gear ratios in your engine schematic?"
   ]
  },
  {
   "cell_type": "code",
   "execution_count": null,
   "metadata": {},
   "outputs": [],
   "source": [
    "from math import prod\n",
    "\n",
    "def get_star_positions(lines):\n",
    "    star_positions = []\n",
    "    for row_id, line in enumerate(lines):\n",
    "        for column_id, char in enumerate(line):\n",
    "            if char == '*':\n",
    "                star_positions.append((row_id, column_id))\n",
    "    return star_positions\n",
    "\n",
    "def are_neighbors(star_position, part_number_info):\n",
    "    for row_move in [-1, 0, 1]:\n",
    "        for column_move in [-1, 0, 1]:\n",
    "            neighbor_position = (star_position[0] + row_move, star_position[1] + column_move)\n",
    "            for number_colum_move in range(len(str(part_number_info.number))):\n",
    "                if part_number_info.position[0] == neighbor_position[0] and part_number_info.position[1]+number_colum_move == neighbor_position[1]:\n",
    "                    return True\n",
    "    return False\n",
    "\n",
    "def get_neighboring_part_numbers(star_position, part_number_infos):\n",
    "    return [number_info.number for number_info in part_number_infos if are_neighbors(star_position, number_info)]\n",
    "\n",
    "def get_gear_ratios(star_positions, part_number_infos):\n",
    "    gear_ratios = []\n",
    "    for star_position in star_positions:\n",
    "        neighboring_part_numbers = get_neighboring_part_numbers(star_position, part_number_infos)\n",
    "        if len(neighboring_part_numbers) == 2:\n",
    "            gear_ratios.append(prod(neighboring_part_numbers))\n",
    "    return gear_ratios\n",
    "\n",
    "star_positions = get_star_positions(lines)\n",
    "gear_ratios = get_gear_ratios(star_positions, part_number_infos)\n",
    "sum(gear_ratios)"
   ]
  }
 ],
 "metadata": {
  "kernelspec": {
   "display_name": "Python 3",
   "language": "python",
   "name": "python3"
  },
  "language_info": {
   "codemirror_mode": {
    "name": "ipython",
    "version": 3
   },
   "file_extension": ".py",
   "mimetype": "text/x-python",
   "name": "python",
   "nbconvert_exporter": "python",
   "pygments_lexer": "ipython3",
   "version": "3.11.5"
  }
 },
 "nbformat": 4,
 "nbformat_minor": 2
}
