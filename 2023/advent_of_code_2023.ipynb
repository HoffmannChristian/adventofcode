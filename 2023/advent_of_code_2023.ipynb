{
 "cells": [
  {
   "cell_type": "markdown",
   "metadata": {},
   "source": [
    "# Advent of Code 2023\n",
    "\n",
    "[Website](https://adventofcode.com/2023)\n",
    "\n",
    "## Day 1: Trebuchet?!\n",
    "\n",
    "What is the sum of all of the calibration values?"
   ]
  },
  {
   "cell_type": "code",
   "execution_count": null,
   "metadata": {},
   "outputs": [],
   "source": [
    "import re\n",
    "\n",
    "def get_digits(line):\n",
    "      return re.findall(r'\\d', line)\n",
    "\n",
    "def get_calibration_value(line):\n",
    "    digits = get_digits(line)\n",
    "    return int(digits[0] + digits[-1]) if len(digits) else 0\n",
    "\n",
    "def get_calibration_sum(lines):\n",
    "    return sum([get_calibration_value(line) for line in lines])\n",
    "\n",
    "lines = open('01_input.txt', 'r').readlines()\n",
    "get_calibration_sum(lines)"
   ]
  },
  {
   "cell_type": "markdown",
   "metadata": {},
   "source": [
    "What is the sum of all of the calibration values?"
   ]
  },
  {
   "cell_type": "code",
   "execution_count": null,
   "metadata": {},
   "outputs": [],
   "source": [
    "def get_digits(line):\n",
    "    numbers = {'0': '0', '1': '1', '2': '2', '3': '3', '4': '4', '5': '5', '6': '6', '7': '7', '8': '8', '9': '9', \\\n",
    "               'zero': '0', 'one': '1', 'two': '2', 'three': '3', 'four': '4', 'five': '5', 'six': '6', 'seven': '7', 'eight': '8', 'nine': '9'}\n",
    "\n",
    "    digits = []\n",
    "    for start_pos in range(len(line)):\n",
    "        digit = next((numbers[number] for number in numbers if line[start_pos:].startswith(number)), None)\n",
    "        if digit != None:\n",
    "            digits.append(digit)\n",
    "    return digits\n",
    "\n",
    "get_calibration_sum(lines)"
   ]
  },
  {
   "cell_type": "markdown",
   "metadata": {},
   "source": [
    "## Day 2: Cube Conundrum\n",
    "\n",
    "What is the sum of the IDs of those games?"
   ]
  },
  {
   "cell_type": "code",
   "execution_count": null,
   "metadata": {},
   "outputs": [],
   "source": [
    "def get_games(lines):\n",
    "    games = []\n",
    "    for game_str in [line.strip().split(':')[1].split(';') for line in lines]:\n",
    "        subsets =[]\n",
    "        for subset_str in game_str:\n",
    "            subset = { 'blue': 0, 'green': 0, 'red': 0}\n",
    "            for cube_str in subset_str.split(','):\n",
    "                cubes = cube_str.split()\n",
    "                subset[cubes[1]] = int(cubes[0])\n",
    "            subsets.append(subset)\n",
    "        games.append(subsets)\n",
    "    return games\n",
    "\n",
    "def is_possible(subset):\n",
    "    max_num_cubes = {'blue': 14, 'green': 13, 'red': 12}\n",
    "    return all(subset[color] <= max_num_cubes[color] for color in max_num_cubes.keys())\n",
    "\n",
    "def get_possible_game_ids(games):\n",
    "    possible_game_ids = []\n",
    "    for game_id in range(len(games)):\n",
    "        if all(is_possible(subset) for subset in games[game_id]):\n",
    "            possible_game_ids.append(game_id+1)\n",
    "    return possible_game_ids\n",
    "\n",
    "lines = open('02_input.txt', 'r').readlines()\n",
    "\n",
    "games = get_games(lines)\n",
    "sum(get_possible_game_ids(games))"
   ]
  },
  {
   "cell_type": "markdown",
   "metadata": {},
   "source": [
    "What is the sum of the power of these sets?"
   ]
  },
  {
   "cell_type": "code",
   "execution_count": null,
   "metadata": {},
   "outputs": [],
   "source": [
    "from math import prod\n",
    "\n",
    "def get_powers(games):\n",
    "    powers = []\n",
    "    for game in games:\n",
    "        min_cube_num = {'blue': 0, 'green': 0, 'red': 0}\n",
    "        for subset in game:\n",
    "            for color in subset:\n",
    "                min_cube_num[color] = max(min_cube_num[color], subset[color])\n",
    "        powers.append(prod(min_cube_num.values()))\n",
    "    return powers\n",
    "\n",
    "sum(get_powers(games))"
   ]
  }
 ],
 "metadata": {
  "kernelspec": {
   "display_name": "Python 3",
   "language": "python",
   "name": "python3"
  },
  "language_info": {
   "codemirror_mode": {
    "name": "ipython",
    "version": 3
   },
   "file_extension": ".py",
   "mimetype": "text/x-python",
   "name": "python",
   "nbconvert_exporter": "python",
   "pygments_lexer": "ipython3",
   "version": "3.11.5"
  }
 },
 "nbformat": 4,
 "nbformat_minor": 2
}
